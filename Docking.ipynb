{
 "cells": [
  {
   "cell_type": "markdown",
   "id": "f0def4d2-bde6-4a2d-974c-5feaef9869b2",
   "metadata": {},
   "source": [
    "# Algoritmo para docking molecular utilizando Python"
   ]
  },
  {
   "cell_type": "markdown",
   "id": "96713450-f226-4eb6-b282-4ca133341182",
   "metadata": {},
   "source": [
    "## Conceptos básicos"
   ]
  },
  {
   "cell_type": "markdown",
   "id": "5964aeec-9936-4a30-8ab5-07f809e441d8",
   "metadata": {},
   "source": [
    "- Docking Molecular\n",
    "- Blanco terapeutico\n",
    "- Ligando\n",
    "- "
   ]
  },
  {
   "cell_type": "markdown",
   "id": "d1a531c9-238e-4fc4-9128-64f3d7d9b948",
   "metadata": {},
   "source": [
    "## Selección de proteína a partir de datos obtenidos de NCBI"
   ]
  },
  {
   "cell_type": "markdown",
   "id": "0801ec85-3eb4-428c-ae03-049e927b2c81",
   "metadata": {},
   "source": [
    "Se pretende realizar una búsqueda de estructuras proteicas en el PDB (Protein Data Bank) utilizando el nombre de un gen y un organismo específicos, obtenidos de NCBI. Si no hay estructuras asociadas con el gen y organismo indicados, el script no generará ningún resultado, y no se imprimirá nada.\n",
    "Los paquetes requeridos para esta primer parte son:\n",
    "- rcsbsearchapi - interactura con las bases de datos\n",
    "- attrs - maneja los atributos asociados a la consulta"
   ]
  },
  {
   "cell_type": "code",
   "execution_count": 1,
   "id": "05fb242e-eb99-46fd-9cc9-ce43b952bf92",
   "metadata": {},
   "outputs": [
    {
     "name": "stdout",
     "output_type": "stream",
     "text": [
      "Estructuras encontradas: ['5I6X', '5I6Z', '5I71', '5I73', '5I74', '5I75', '6AWN', '6AWO', '6AWP', '6AWQ', '6DZV', '6DZW', '6DZY', '6DZZ', '6VRH', '6VRK', '6VRL', '6W2B', '6W2C', '7LI6', '7LI7', '7LI8', '7LI9', '7LIA', '7LWD', '7MGW', '7TXT']\n"
     ]
    }
   ],
   "source": [
    "from rcsbsearchapi.search import TextQuery\n",
    "from rcsbsearchapi import rcsb_attributes as attrs\n",
    "\n",
    "# OBTENCION DE PROTEINAS A PARTIR DE DATOS OBTENIDOS DE NCBI\n",
    "gene_name = \"SLC6A4\"  # Nombre del gen a buscar\n",
    "organism_name = \"Homo sapiens\"  # Nombre del organismo\n",
    "\n",
    "# Consulta y obtencion de estructuras en PDB databank\n",
    "q1 = attrs.rcsb_entity_source_organism.rcsb_gene_name.value == gene_name\n",
    "q2 = attrs.rcsb_entity_source_organism.scientific_name == organism_name\n",
    "query = q1 & q2\n",
    "results = list(query())\n",
    "print(\"Estructuras encontradas:\", results)\n",
    "#Si el nombre del gen no esta asociado a ninguna estructura dentro de PDB databank,\n",
    "#el algortimo no generara resultados. "
   ]
  },
  {
   "cell_type": "markdown",
   "id": "52fb5111-c07d-464b-bd5e-57138c1477ad",
   "metadata": {},
   "source": [
    "## Selección y descarga de estructuras en formato .pdb"
   ]
  },
  {
   "cell_type": "markdown",
   "id": "c2d65496-91b4-4689-9460-65a2ca25eab9",
   "metadata": {},
   "source": [
    "A partir de la lista de resultados obtenidos, es recomendable realizar una evaluación de las estructuras con el fin de evaluar las caracteristicas de cada una. posteriormente, se selecionará y descargara alguna de las moleculas. \n",
    "Requerimientos \n",
    "- requests - solicitudes HTTP, en este caso, para descargar el archivo PDB desde el servidor del PDB."
   ]
  },
  {
   "cell_type": "code",
   "execution_count": 2,
   "id": "3e62a416-c1e0-44ae-a15c-c304cd9452f5",
   "metadata": {},
   "outputs": [
    {
     "name": "stdout",
     "output_type": "stream",
     "text": [
      "Estructura seleccionada: 5I6X\n",
      "Estructura 5I6X descargada y guardada en protein_structures/\n"
     ]
    }
   ],
   "source": [
    "pdb_id = '5I6X' #modificable\n",
    "print(\"Estructura seleccionada:\",pdb_id)\n",
    "\n",
    "import os  # Para manejar directorios\n",
    "import requests  # Para descargar archivos\n",
    "\n",
    "# Realiza un directorio para los archivos PDB \n",
    "protein_directory = \"protein_structures\"\n",
    "os.makedirs(protein_directory, exist_ok=True) #si no se tiene un directorio generado, desmarcar\n",
    "\n",
    "# Descarga de la estructura PDB\n",
    "pdb_request = requests.get(f\"https://files.rcsb.org/download/{pdb_id}.pdb\")\n",
    "\n",
    "if pdb_request.status_code == 200:\n",
    "    # Almacenamiento del archivo PDB\n",
    "    with open(f\"{protein_directory}/{pdb_id}.pdb\", \"w+\") as f:\n",
    "        f.write(pdb_request.text)\n",
    "    print(f\"Estructura {pdb_id} descargada y guardada en {protein_directory}/\")\n",
    "else:\n",
    "    print(f\"Error al descargar la estructura {pdb_id}. Código de estado: {pdb_request.status_code}\")\n"
   ]
  },
  {
   "cell_type": "markdown",
   "id": "af7442ec-442b-446a-ba79-dc463d949686",
   "metadata": {},
   "source": [
    "## Visualización de la estructura de la proteina"
   ]
  },
  {
   "cell_type": "markdown",
   "id": "ae22f97c-bf0b-458f-b068-3d191ba1aaba",
   "metadata": {},
   "source": [
    "Con el fin de cerciorarnos de que la estructura seleccionada es adecuada, es necesario visualizarla. Ademas, esto podrá proporcionarnos información respecto a las modificaciones a realizar previas al estudio \n",
    "Requerimientos \n",
    "- MDAnalysis - analizar y manipular simulaciones moleculares y estructuras biológicas."
   ]
  },
  {
   "cell_type": "code",
   "execution_count": 3,
   "id": "798c8d6a-b860-4594-98b3-9e1c34b4bf0d",
   "metadata": {},
   "outputs": [
    {
     "name": "stderr",
     "output_type": "stream",
     "text": [
      "WARNING:MDAnalysis.coordinates.AMBER:netCDF4 is not available. Writing AMBER ncdf files will be slow.\n"
     ]
    },
    {
     "name": "stdout",
     "output_type": "stream",
     "text": [
      "<Universe with 7631 atoms>\n"
     ]
    },
    {
     "data": {
      "application/vnd.jupyter.widget-view+json": {
       "model_id": "844048f94a1046f6bb6b8a14d81ced61",
       "version_major": 2,
       "version_minor": 0
      },
      "text/plain": []
     },
     "metadata": {},
     "output_type": "display_data"
    },
    {
     "data": {
      "application/vnd.jupyter.widget-view+json": {
       "model_id": "b90862a13ba040df9c17f8480d8e024d",
       "version_major": 2,
       "version_minor": 0
      },
      "text/plain": [
       "NGLWidget()"
      ]
     },
     "metadata": {},
     "output_type": "display_data"
    }
   ],
   "source": [
    "#VISUALIZACION DE LA ESTRUCTURA DE PROTEINA\n",
    "import MDAnalysis as mda\n",
    "pdb_file = f\"protein_structures/{pdb_id}.pdb\"\n",
    "u = mda.Universe(pdb_file)\n",
    "print(u)\n",
    "import nglview as nv\n",
    "view=nv.show_mdanalysis(u) #visualizar estructura\n",
    "view"
   ]
  },
  {
   "cell_type": "markdown",
   "id": "13c75700-5ac7-4722-acdf-abc91d9ff026",
   "metadata": {},
   "source": [
    "## Preparación del blanco terapeutico"
   ]
  },
  {
   "cell_type": "markdown",
   "id": "0178d205-a07c-46b1-80ac-c1888ce42b38",
   "metadata": {},
   "source": [
    "A partir de este punto, la estructura obtenida de PDB será nombrada como \"blanco terapéutico\".\n",
    "Debido a los requerimientos de AutodockVina, es necesario hacer la conversión del archivo .PDB a .PDBQT\n",
    "Además, se realizarán correcciones respecto a cargas e hidrógenos en la estructura. "
   ]
  },
  {
   "cell_type": "code",
   "execution_count": null,
   "id": "1c81436b-0d50-4776-a2c9-92cf075ac9f9",
   "metadata": {},
   "outputs": [],
   "source": [
    "#Seleccion de atomos \n",
    "protein = u.select_atoms(\"protein\")\n",
    "ligand = u.select_atoms(\"resname 8PR\") #el nombre del ligando va en funcion del ligando unido a la proteina seleccionada\n",
    "water = u.select_atoms(\"resname HOH\") #solo se llena en caso de que se quieran seleccionar las moleculas de agua\n",
    "water \n",
    " #Generacion de nuevo archivo .pdb\n",
    "protein_pdb_path = f\"{protein_directory}/protein_{pdb_id}.pdb\"\n",
    "protein.write(protein_pdb_path)\n",
    "protein_pqr_path = f\"{protein_directory}/protein_{pdb_id}.pqr\"\n",
    "\n",
    "# Comando para ejecutar PDB2PQR\n",
    "import subprocess\n",
    "pdb2pqr_command = [\n",
    "    \"pdb2pqr\",\n",
    "    \"--ff=AMBER\",  # Usar el campo de fuerza AMBER\n",
    "    \"--with-ph=7.0\",  # Configurar pH\n",
    "    protein_pdb_path,  # Archivo de entrada\n",
    "    protein_pqr_path  # Archivo de salida\n",
    "]\n",
    "\n",
    "try:\n",
    "    subprocess.run(pdb2pqr_command, check=True)\n",
    "    print(f\"Archivo PQR generado en: {protein_pqr_path}\")\n",
    "except subprocess.CalledProcessError as e:\n",
    "    print(f\"Error al ejecutar PDB2PQR: {e}\")\n",
    "    \n",
    "pdbqt_directory = \"pdbqt_structures\" #directorio definido para los archivos pdbqt\n",
    "os.makedirs(pdbqt_directory, exist_ok=True)  # Crea el directorio si no existe\n",
    "\n",
    "# Carga la estructura PQR\n",
    "pqr_path = f\"{protein_directory}/protein_{pdb_id}.pqr\"\n",
    "u = mda.Universe(pqr_path)\n",
    "\n",
    "pdbqt_path = f\"{pdbqt_directory}/{pdb_id}.pdbqt\" #conversion a PDBQT\n",
    "u.atoms.write(pdbqt_path)\n",
    "\n",
    "print(f\"Archivo PDBQT generado y guardado en: {pdbqt_path}\")\n",
    "\n",
    "with open(f\"{pdbqt_directory}/{pdb_id}.pdbqt\", 'r') as file:\n",
    "    file_content = file.read()\n",
    "#MDAnalysis genera dos lineas que autodockVina no reconoce, por lo que es importante modificarlas \n",
    "\n",
    "# Reemplazar 'TITLE' y 'CRYST1' con 'REMARK'\n",
    "file_content = file_content.replace('TITLE', 'REMARK').replace('CRYST1', 'REMARK')\n",
    "with open(f\"{pdbqt_directory}/{pdb_id}.pdbqt\", 'w') as file:\n",
    "    file.write(file_content)"
   ]
  },
  {
   "cell_type": "markdown",
   "id": "20d48757-1d25-4652-9e68-c1675b209f94",
   "metadata": {},
   "source": [
    "## Preparacion de ligandos"
   ]
  },
  {
   "cell_type": "markdown",
   "id": "16db8dd7-bd0f-4313-ab65-968434a035ca",
   "metadata": {},
   "source": [
    "Las estructuras previstas para el estudio fueron previamente generadas a través de Chem3D y minimizadas molecularmente a través del algoritmo MMF94, con el fin de obtener las posiciones de menor energía. Todas las estructuras generadas se encuentran alojadas en un directorio base en formato .mol2 y convertidas a .pdbqt"
   ]
  },
  {
   "cell_type": "code",
   "execution_count": null,
   "id": "d867feb1-e047-4696-83d1-1ae8cf3dd1e1",
   "metadata": {},
   "outputs": [],
   "source": [
    "import os\n",
    "import subprocess\n",
    "from pathlib import Path\n",
    "\n",
    "# Define la ruta a la carpeta de entrada y salida\n",
    "input_dir = Path(os.getcwd(), \"Ligands\")\n",
    "output_dir = Path(\"C:/Users/User/Downloads/python/ligands_pdbqt\")\n",
    "\n",
    "# Verifica que la carpeta de entrada exista\n",
    "if not input_dir.exists():\n",
    "    print(f\"Error: La carpeta {input_dir} no existe.\")\n",
    "    exit(1)\n",
    "\n",
    "# Crea la carpeta de salida si no existe\n",
    "output_dir.mkdir(parents=True, exist_ok=True)\n",
    "\n",
    "# Lista todos los archivos en la carpeta de entrada\n",
    "dir_list = os.listdir(input_dir)\n",
    "\n",
    "# Itera sobre los archivos para convertir de .mol2 a .pdbqt\n",
    "for molecule in dir_list:\n",
    "    if molecule.endswith(\".mol2\"):\n",
    "        # Rutas completas para el archivo de entrada y salida\n",
    "        full_element_path = input_dir / molecule\n",
    "        converted_name = molecule.replace(\".mol2\", \".pdbqt\")\n",
    "        full_converted_name = output_dir / converted_name\n",
    "\n",
    "        # Ejecuta el comando de conversión usando Open Babel\n",
    "        command = subprocess.run(\n",
    "            [\"obabel\", str(full_element_path), \"-O\", str(full_converted_name)],\n",
    "            text=True,\n",
    "        )\n",
    "\n",
    "        # Verifica si la conversión fue exitosa\n",
    "        if command.returncode == 0:\n",
    "            print(f\"Convertido: {full_element_path} -> {full_converted_name}\")\n",
    "        else:\n",
    "            print(f\"Error al convertir {full_element_path}\")\n",
    "    else:\n",
    "        print(f\"Saltando archivo no compatible: {molecule}\")"
   ]
  },
  {
   "cell_type": "markdown",
   "id": "1640691e-7fda-4e39-97ef-83d7320b3af9",
   "metadata": {},
   "source": [
    "## Docking molecular"
   ]
  },
  {
   "cell_type": "markdown",
   "id": "f3fb0ede-99d3-4513-826b-6351d7867b26",
   "metadata": {},
   "source": [
    "Una vez obtenidas todas las estructuras enn formato .pdbqt, es posible realizar un estudio de acoplamiento molecular Docking utilizando AutodockVina."
   ]
  },
  {
   "cell_type": "code",
   "execution_count": null,
   "id": "563ef0c0-064b-4a2c-b563-4fa7a5fbe0ae",
   "metadata": {},
   "outputs": [],
   "source": [
    "#DOCKING MOLECULAR\n",
    "#encontrando coordenadas para la gridbox\n",
    "import MDAnalysis as mda\n",
    "#centro de gridbox\n",
    "original_structure = mda.Universe(\"protein_structures/5I6X.pdb\")\n",
    "ligand_mda = original_structure.select_atoms(\"resname 8PR\")\n",
    "pocket_center =ligand_mda.center_of_geometry()\n",
    "print(pocket_center)\n",
    "#tamaño de gridbox\n",
    "ligand_box = ligand_mda.positions.max(axis=0) -ligand_mda.positions.max(axis=0) +5  \n",
    "ligand_box\n",
    "#convirtiendo de Numpy arrays a listas\n",
    "pocket_center = pocket_center.tolist()\n",
    "ligand_box = ligand_box.tolist()\n",
    "#docking con AutodockVina\n",
    "import os\n",
    "import csv\n",
    "from pathlib import Path\n",
    "from vina import Vina\n",
    "pdb_id = \"5I6X\"\n",
    "ligand = \"8PR\"\n",
    "os.makedirs(\"Docking_results\", exist_ok=True)\n",
    "receptor_file = Path(\"C:/Users/User/Downloads/python/receptor.pdbqt\")  # Archivo PDBQT del receptor\n",
    "ligands_dir = Path(\"C:/Users/User/Downloads/python/ligands_pdbqt\")  # Carpeta con ligandos\n",
    "results_dir = Path(\"C:/Users/User/Downloads/python/docking_results\")  # Carpeta para resultados de poses\n",
    "csv_dir = Path(\"C:/Users/User/Downloads/python/docking_csv\")  # Carpeta para archivos CSV\n",
    "from vina import Vina\n",
    "v = Vina(sf_name=\"vina\")\n",
    "v.set_receptor(f\"pdbqt/{pdb_id}.pdbqt\")\n",
    "for ligand_file in ligands_dir.glob(\"*.pdbqt\"):  # Esto solo seleccionará los archivos .pdbqt\n",
    "    ligand_name = ligand_file.stem  # Obtener el nombre del ligando sin la extensión\n",
    "\n",
    "    # Configurar el ligando\n",
    "    v.set_ligand_from_file(str(ligand_file))  # Pasar la ruta completa del archivo de ligando\n",
    "v.compute_vina_maps(center=pocket_center, box_size=ligand_box) \n",
    "print(f\"Ejecutando docking para el ligando: {ligand_name}\")\n",
    "Vina.dock(exhaustiveness=8, n_poses=10)\n",
    "# Guardar las poses en un archivo de salida\n",
    "output_pose_file = results_dir / f\"{ligand_name}_poses.pdbqt\"\n",
    "vina.write_poses(str(output_pose_file), n_poses=10)\n",
    "\n",
    "# Obtener energías de acoplamiento\n",
    "results = vina.poses()\n",
    "docking_results = [\n",
    "        {\"receptor\": pdb_id, \"ligand\": ligand_name, \"pose\": i + 1, \"affinity\": pose[\"score\"]}\n",
    "        for i, pose in enumerate(results)\n",
    "    ]\n",
    "\n",
    " # Crear archivo CSV para el ligando en la carpeta docking_csv\n",
    "output_csv_file = csv_dir / f\"{ligand_name}_docking.csv\"\n",
    "with open(output_csv_file, mode=\"w\", newline=\"\") as csvfile:\n",
    "        csv_writer = csv.DictWriter(csvfile, fieldnames=[\"receptor\", \"ligand\", \"pose\", \"affinity\"])\n",
    "        csv_writer.writeheader()\n",
    "        csv_writer.writerows(docking_results)\n",
    "\n",
    "print(f\"Resultados guardados: {output_csv_file}\")\n"
   ]
  }
 ],
 "metadata": {
  "kernelspec": {
   "display_name": "Python 3 (ipykernel)",
   "language": "python",
   "name": "python3"
  },
  "language_info": {
   "codemirror_mode": {
    "name": "ipython",
    "version": 3
   },
   "file_extension": ".py",
   "mimetype": "text/x-python",
   "name": "python",
   "nbconvert_exporter": "python",
   "pygments_lexer": "ipython3",
   "version": "3.13.1"
  }
 },
 "nbformat": 4,
 "nbformat_minor": 5
}
