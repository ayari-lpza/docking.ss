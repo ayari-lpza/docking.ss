{
 "cells": [
  {
   "cell_type": "markdown",
   "id": "04bf2d8b-3649-4b9a-aa59-f0d0c460e352",
   "metadata": {},
   "source": [
    "# Algoritmo para docking molecular utilizando Python"
   ]
  },
  {
   "cell_type": "markdown",
   "id": "f4ceec2f-f6f9-4c0f-8daa-6dd741d2b2fe",
   "metadata": {},
   "source": [
    "## Conceptos básicos"
   ]
  },
  {
   "cell_type": "markdown",
   "id": "33cfd77b-6dc2-4036-81a5-e1b6fcfd0a24",
   "metadata": {},
   "source": [
    "- Docking Molecular: Es una técnica computacional que predice la forma en que dos moléculas, típicamente un fármaco (ligando) y una proteína (blanco terapéutico), se unen o \"acoplan\". El objetivo del docking es encontrar la mejor posición y orientación del ligando en el sitio activo del blanco, optimizando las interacciones químicas para predecir la afinidad o eficacia del compuesto.\n",
    "\n",
    "- Blanco terapeutico: Es una molécula biológica (por ejemplo, una proteína, enzima, receptor o ácido nucleico) que participa en un proceso fisiológico o patológico y que puede ser modulada por un fármaco para lograr un efecto terapéutico. Al inhibir o activar este blanco, se busca tratar, curar o prevenir una enfermedad.\n",
    "\n",
    "- Ligando: Es una molécula que puede unirse de forma específica a otra molécula (generalmente más grande) para formar un complejo estable. En el contexto farmacológico, un ligando suele ser un compuesto pequeño (como un fármaco candidato) que se une a un blanco terapéutico para alterar su función."
   ]
  },
  {
   "cell_type": "markdown",
   "id": "24ae3405-4f2e-4111-a8d1-77449ff1b11f",
   "metadata": {},
   "source": [
    "## Consideraciones importantes"
   ]
  },
  {
   "cell_type": "markdown",
   "id": "19b3017e-dbe8-4ce8-b511-abf1cba9963c",
   "metadata": {},
   "source": [
    "Para realizar un docking molecular de manera eficiente, es fundamental tener en cuenta diversos aspectos técnicos como\n",
    "- Asegurarse de que tanto el blanco terapéutico como el ligando estén en el formato adecuado. Las moléculas a estudiar (ligandos) deben encontrarse en formato .mol2 al momento de utilizar este algoritmo.\n",
    "- AutoDock Vina debe estar correctamente instalado y su ejecutable accesible desde el entorno en el que se está trabajando. La ubicación de Autodock Vina debe ser actualizada al momento de utilizar el algoritmo.\n",
    "- Para controlar y automatizar el docking desde Python, es importante instalar algunas bibliotecas esenciales, las cuales se encuentran descritas en este archivo.\n",
    "- La ruta de los archivos de generados a partir de este algoritmo debe ser corregida al momento de usarlo. \n"
   ]
  },
  {
   "cell_type": "code",
   "execution_count": 1,
   "id": "12ebdd38-21fe-4bbe-bc96-d85a0907d72d",
   "metadata": {},
   "outputs": [
    {
     "name": "stdout",
     "output_type": "stream",
     "text": [
      "\n",
      "Ejecutando: 01_molecules\n",
      "⚠️ Error al ejecutar 01_molecules. Deteniendo el flujo.\n"
     ]
    },
    {
     "name": "stdin",
     "output_type": "stream",
     "text": [
      "¿Deseas revisar el archivo de moléculas antes de continuar? (s/n):  s\n"
     ]
    },
    {
     "name": "stdout",
     "output_type": "stream",
     "text": [
      "Pausa para revisión. Ejecuta 'main.py' nuevamente cuando estés listo.\n",
      "\n",
      "Ejecutando: 04_docking.py\n",
      "⚠️ Error al ejecutar 04_docking.py. Deteniendo el flujo.\n",
      "\n",
      "✅ Flujo completo ejecutado con éxito.\n"
     ]
    }
   ],
   "source": [
    "import subprocess\n",
    "import time\n",
    "import os\n",
    "\n",
    "def run_script(script_path):\n",
    "    print(f\"\\nEjecutando: {script_path}\")\n",
    "    result = subprocess.run([\"python\", script_path])\n",
    "    if result.returncode != 0:\n",
    "        print(f\"⚠️ Error al ejecutar {script_path}. Deteniendo el flujo.\")\n",
    "        exit(1)\n",
    "\n",
    "# Paso 1: Obtener moléculas\n",
    "run_script(\"01_molecules\")\n",
    "\n",
    "# Paso opcional: revisión manual\n",
    "revisar = input(\"¿Deseas revisar el archivo de moléculas antes de continuar? (s/n): \")\n",
    "if revisar.lower() == \"s\":\n",
    "    print(\"Pausa para revisión. Ejecuta 'main.py' nuevamente cuando estés listo.\")\n",
    "    exit(0)\n",
    "\n",
    "# Paso 2 y 3: Preparar ligandos y obtener blancos (en paralelo)\n",
    "from multiprocessing import Process\n",
    "\n",
    "p1 = Process(target=run_script, args=(\"02_target_prep\",))\n",
    "p2 = Process(target=run_script, args=(\"03_obtener_blancos.py\",))\n",
    "\n",
    "p1.start()\n",
    "p2.start()\n",
    "\n",
    "p1.join()\n",
    "p2.join()\n",
    "\n",
    "# Paso 4: Docking\n",
    "run_script(\"04_docking.py\")\n",
    "print(\"\\n✅ Flujo completo ejecutado con éxito.\")"
   ]
  }
 ],
 "metadata": {
  "kernelspec": {
   "display_name": "Python 3 (ipykernel)",
   "language": "python",
   "name": "python3"
  },
  "language_info": {
   "codemirror_mode": {
    "name": "ipython",
    "version": 3
   },
   "file_extension": ".py",
   "mimetype": "text/x-python",
   "name": "python",
   "nbconvert_exporter": "python",
   "pygments_lexer": "ipython3",
   "version": "3.13.1"
  }
 },
 "nbformat": 4,
 "nbformat_minor": 5
}
