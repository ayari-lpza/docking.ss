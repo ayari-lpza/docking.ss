{
 "cells": [
  {
   "cell_type": "markdown",
   "id": "f663452f-c038-44ab-abf7-e386fc614284",
   "metadata": {},
   "source": [
    "# Preparación de blanco terapeutico/traget"
   ]
  },
  {
   "cell_type": "markdown",
   "id": "c33a4476-f2b9-4661-b4b0-2b88d27c1853",
   "metadata": {},
   "source": [
    "A partir de este punto, la estructura obtenida de PDB será nombrada como \"blanco terapéutico\". Debido a los requerimientos de AutodockVina, es necesario hacer la conversión del archivo .PDB a .PDBQT Además, se realizarán correcciones respecto a cargas e hidrógenos en la estructura."
   ]
  },
  {
   "cell_type": "code",
   "execution_count": 5,
   "id": "9a8e8b91-6004-483b-9fc6-04088ff6b2ea",
   "metadata": {
    "scrolled": true
   },
   "outputs": [
    {
     "ename": "NameError",
     "evalue": "name 'pdb_path' is not defined",
     "output_type": "error",
     "traceback": [
      "\u001b[1;31m---------------------------------------------------------------------------\u001b[0m",
      "\u001b[1;31mNameError\u001b[0m                                 Traceback (most recent call last)",
      "Cell \u001b[1;32mIn[5], line 4\u001b[0m\n\u001b[0;32m      2\u001b[0m \u001b[38;5;28;01mfrom\u001b[39;00m \u001b[38;5;21;01mpathlib\u001b[39;00m \u001b[38;5;28;01mimport\u001b[39;00m Path\n\u001b[0;32m      3\u001b[0m \u001b[38;5;28;01mimport\u001b[39;00m \u001b[38;5;21;01mMDAnalysis\u001b[39;00m \u001b[38;5;28;01mas\u001b[39;00m \u001b[38;5;21;01mmda\u001b[39;00m\n\u001b[1;32m----> 4\u001b[0m u \u001b[38;5;241m=\u001b[39m mda\u001b[38;5;241m.\u001b[39mUniverse(\u001b[43mpdb_path\u001b[49m)\n\u001b[0;32m      5\u001b[0m \u001b[38;5;28mprint\u001b[39m(u)\n\u001b[0;32m      6\u001b[0m protein \u001b[38;5;241m=\u001b[39m u\u001b[38;5;241m.\u001b[39mselect_atoms(\u001b[38;5;124m\"\u001b[39m\u001b[38;5;124mprotein\u001b[39m\u001b[38;5;124m\"\u001b[39m)\n",
      "\u001b[1;31mNameError\u001b[0m: name 'pdb_path' is not defined"
     ]
    }
   ],
   "source": [
    "#Seleccion de atomos \n",
    "from pathlib import Path\n",
    "import MDAnalysis as mda\n",
    "u = mda.Universe(pdb_path)\n",
    "print(u)\n",
    "protein = u.select_atoms(\"protein\")\n",
    "ligand = u.select_atoms(\"resname 8PR\") #el nombre del ligando va en funcion del ligando unido a la proteina seleccionada\n",
    "water = u.select_atoms(\"resname HOH\") #solo se llena en caso de que se quieran seleccionar las moleculas de agua\n",
    "water \n",
    " #Generacion de nuevo archivo .pdb\n",
    "protein_pdb_path = f\"{protein_directory}/protein_{pdb_id}.pdb\"\n",
    "protein.write(protein_pdb_path)\n",
    "protein_pqr_path = f\"{protein_directory}/protein_{pdb_id}.pqr\"\n",
    "\n",
    "# Comando para ejecutar PDB2PQR\n",
    "import subprocess\n",
    "pdb2pqr_command = [\n",
    "    \"pdb2pqr\",\n",
    "    \"--ff=AMBER\",  # Usar el campo de fuerza AMBER\n",
    "    \"--with-ph=7.0\",  # Configurar pH\n",
    "    protein_pdb_path,  # Archivo de entrada\n",
    "    protein_pqr_path  # Archivo de salida\n",
    "]\n",
    "\n",
    "try:\n",
    "    subprocess.run(pdb2pqr_command, check=True)\n",
    "    print(f\"Archivo PQR generado en: {protein_pqr_path}\")\n",
    "except subprocess.CalledProcessError as e:\n",
    "    print(f\"Error al ejecutar PDB2PQR: {e}\")\n",
    "    \n",
    "pdbqt_directory = \"pdbqt_structures\" #directorio definido para los archivos pdbqt\n",
    "os.makedirs(pdbqt_directory, exist_ok=True)  # Crea el directorio si no existe\n",
    "\n",
    "# Carga la estructura PQR\n",
    "pqr_path = f\"{protein_directory}/protein_{pdb_id}.pqr\"\n",
    "u = mda.Universe(pqr_path)\n",
    "\n",
    "pdbqt_path = f\"{pdbqt_directory}/{pdb_id}.pdbqt\" #conversion a PDBQT\n",
    "u.atoms.write(pdbqt_path)\n",
    "\n",
    "print(f\"Archivo PDBQT generado y guardado en: {pdbqt_path}\")\n",
    "\n",
    "with open(f\"{pdbqt_directory}/{pdb_id}.pdbqt\", 'r') as file:\n",
    "    file_content = file.read()\n",
    "#MDAnalysis genera dos lineas que autodockVina no reconoce, por lo que es importante modificarlas \n",
    "\n",
    "# Reemplazar 'TITLE' y 'CRYST1' con 'REMARK'\n",
    "file_content = file_content.replace('TITLE', 'REMARK').replace('CRYST1', 'REMARK')\n",
    "with open(f\"{pdbqt_directory}/{pdb_id}.pdbqt\", 'w') as file:\n",
    "    file.write(file_content)"
   ]
  },
  {
   "cell_type": "code",
   "execution_count": null,
   "id": "52266491-c929-4623-af73-ff150bbb1e6b",
   "metadata": {},
   "outputs": [],
   "source": []
  }
 ],
 "metadata": {
  "kernelspec": {
   "display_name": "Python 3 (ipykernel)",
   "language": "python",
   "name": "python3"
  },
  "language_info": {
   "codemirror_mode": {
    "name": "ipython",
    "version": 3
   },
   "file_extension": ".py",
   "mimetype": "text/x-python",
   "name": "python",
   "nbconvert_exporter": "python",
   "pygments_lexer": "ipython3",
   "version": "3.13.1"
  }
 },
 "nbformat": 4,
 "nbformat_minor": 5
}
