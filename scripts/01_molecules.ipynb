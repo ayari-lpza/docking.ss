{
 "cells": [
  {
   "cell_type": "markdown",
   "id": "e160ef39-928f-44b8-8e02-10745bb78b26",
   "metadata": {},
   "source": [
    "# Obtención de moleculas a partir de datos de NCBI"
   ]
  },
  {
   "cell_type": "markdown",
   "id": "ebc5316a-c76b-4030-bd19-78d9f9d8c781",
   "metadata": {},
   "source": [
    "Se pretende realizar una búsqueda de estructuras proteicas en el PDB (Protein Data Bank) utilizando el nombre de un gen y un organismo específicos, obtenidos de NCBI. Si no hay estructuras asociadas con el gen y organismo indicados, el script no generará ningún resultado, y no se imprimirá nada.\n",
    "Los paquetes requeridos para esta primer parte son:\n",
    "- rcsbsearchapi - interactura con las bases de datos\n",
    "- attrs - maneja los atributos asociados a la consulta\n",
    "\n",
    "A partir de la lista de resultados obtenidos, es recomendable realizar una evaluación de las estructuras con el fin de evaluar las caracteristicas de cada una. posteriormente, se selecionará y descargara alguna de las moleculas. \n",
    "\n",
    "Requerimientos \n",
    "- requests - solicitudes HTTP, en este caso, para descargar el archivo PDB desde el servidor del PDB."
   ]
  },
  {
   "cell_type": "code",
   "execution_count": 1,
   "id": "89dd3509-cac6-4305-bffd-bd5f0784d5b0",
   "metadata": {},
   "outputs": [
    {
     "name": "stdout",
     "output_type": "stream",
     "text": [
      "Estructuras encontradas: ['5I6X', '5I6Z', '5I71', '5I73', '5I74', '5I75', '6AWN', '6AWO', '6AWP', '6AWQ', '6DZV', '6DZW', '6DZY', '6DZZ', '6VRH', '6VRK', '6VRL', '6W2B', '6W2C', '7LI6', '7LI7', '7LI8', '7LI9', '7LIA', '7LWD', '7MGW', '7TXT']\n",
      "Estructura seleccionada: 5I6X\n",
      "Estructura 5I6X descargada y guardada en protein_structures/\n"
     ]
    },
    {
     "name": "stderr",
     "output_type": "stream",
     "text": [
      "WARNING:MDAnalysis.coordinates.AMBER:netCDF4 is not available. Writing AMBER ncdf files will be slow.\n"
     ]
    },
    {
     "name": "stdout",
     "output_type": "stream",
     "text": [
      "<Universe with 7631 atoms>\n"
     ]
    },
    {
     "data": {
      "application/vnd.jupyter.widget-view+json": {
       "model_id": "01c234bc343b44cd87433f1857f0c83b",
       "version_major": 2,
       "version_minor": 0
      },
      "text/plain": []
     },
     "metadata": {},
     "output_type": "display_data"
    },
    {
     "data": {
      "application/vnd.jupyter.widget-view+json": {
       "model_id": "db89544f70554fb8988899bdd6364460",
       "version_major": 2,
       "version_minor": 0
      },
      "text/plain": [
       "NGLWidget()"
      ]
     },
     "metadata": {},
     "output_type": "display_data"
    }
   ],
   "source": [
    "from rcsbsearchapi.search import TextQuery\n",
    "from rcsbsearchapi import rcsb_attributes as attrs\n",
    "\n",
    "# OBTENCION DE PROTEINAS A PARTIR DE DATOS OBTENIDOS DE NCBI\n",
    "gene_name = \"SLC6A4\"  # Nombre del gen a buscar\n",
    "organism_name = \"Homo sapiens\"  # Nombre del organismo\n",
    "\n",
    "# Consulta y obtencion de estructuras en PDB databank\n",
    "q1 = attrs.rcsb_entity_source_organism.rcsb_gene_name.value == gene_name\n",
    "q2 = attrs.rcsb_entity_source_organism.scientific_name == organism_name\n",
    "query = q1 & q2\n",
    "results = list(query())\n",
    "print(\"Estructuras encontradas:\", results)\n",
    "#Si el nombre del gen no esta asociado a ninguna estructura dentro de PDB databank,\n",
    "#el algortimo no generara resultados. \n",
    "pdb_id = '5I6X' #modificable\n",
    "print(\"Estructura seleccionada:\",pdb_id)\n",
    "\n",
    "import os  # Para manejar directorios\n",
    "import requests  # Para descargar archivos\n",
    "\n",
    "# Realiza un directorio para los archivos PDB \n",
    "protein_directory = \"protein_structures\"\n",
    "os.makedirs(protein_directory, exist_ok=True) #si no se tiene un directorio generado, desmarcar\n",
    "\n",
    "# Descarga de la estructura PDB\n",
    "pdb_request = requests.get(f\"https://files.rcsb.org/download/{pdb_id}.pdb\")\n",
    "\n",
    "if pdb_request.status_code == 200:\n",
    "    # Almacenamiento del archivo PDB\n",
    "    with open(f\"{protein_directory}/{pdb_id}.pdb\", \"w+\") as f:\n",
    "        f.write(pdb_request.text)\n",
    "    print(f\"Estructura {pdb_id} descargada y guardada en {protein_directory}/\")\n",
    "else:\n",
    "    print(f\"Error al descargar la estructura {pdb_id}. Código de estado: {pdb_request.status_code}\")\n",
    "#VISUALIZACION DE LA ESTRUCTURA DE PROTEINA\n",
    "import MDAnalysis as mda\n",
    "pdb_file = f\"protein_structures/{pdb_id}.pdb\"\n",
    "u = mda.Universe(pdb_file)\n",
    "print(u)\n",
    "import nglview as nv\n",
    "view=nv.show_mdanalysis(u) #visualizar estructura\n",
    "view"
   ]
  },
  {
   "cell_type": "code",
   "execution_count": null,
   "id": "2d48e768-4a2f-4771-9da6-972c4a399f39",
   "metadata": {},
   "outputs": [],
   "source": []
  }
 ],
 "metadata": {
  "kernelspec": {
   "display_name": "Python 3 (ipykernel)",
   "language": "python",
   "name": "python3"
  },
  "language_info": {
   "codemirror_mode": {
    "name": "ipython",
    "version": 3
   },
   "file_extension": ".py",
   "mimetype": "text/x-python",
   "name": "python",
   "nbconvert_exporter": "python",
   "pygments_lexer": "ipython3",
   "version": "3.13.1"
  }
 },
 "nbformat": 4,
 "nbformat_minor": 5
}
