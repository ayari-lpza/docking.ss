{
 "cells": [
  {
   "cell_type": "markdown",
   "id": "26c3e9a1-5031-4a4f-96c6-9de47f94ffc4",
   "metadata": {},
   "source": [
    "# Preparación de ligandos"
   ]
  },
  {
   "cell_type": "markdown",
   "id": "f9038991-0f8d-47cd-86c8-509488ef1c78",
   "metadata": {},
   "source": [
    "Las estructuras previstas para el estudio fueron previamente generadas a través de Chem3D y minimizadas molecularmente a través del algoritmo MMF94, con el fin de obtener las posiciones de menor energía. Todas las estructuras generadas se encuentran alojadas en un directorio base en formato .mol2 y convertidas a .pdbqt"
   ]
  },
  {
   "cell_type": "code",
   "execution_count": null,
   "id": "ec1f5c54-b020-4eca-b004-e08e1fdb2020",
   "metadata": {},
   "outputs": [],
   "source": [
    "import os\n",
    "import subprocess\n",
    "from pathlib import Path\n",
    "\n",
    "# Define la ruta a la carpeta de entrada y salida\n",
    "input_dir = Path(os.getcwd(), \"Ligands\")\n",
    "output_dir = Path(\"C:/Users/User/Downloads/python/ligands_pdbqt\")\n",
    "\n",
    "# Verifica que la carpeta de entrada exista\n",
    "if not input_dir.exists():\n",
    "    print(f\"Error: La carpeta {input_dir} no existe.\")\n",
    "    exit(1)\n",
    "\n",
    "# Crea la carpeta de salida si no existe\n",
    "output_dir.mkdir(parents=True, exist_ok=True)\n",
    "\n",
    "# Lista todos los archivos en la carpeta de entrada\n",
    "dir_list = os.listdir(input_dir)\n",
    "\n",
    "# Itera sobre los archivos para convertir de .mol2 a .pdbqt\n",
    "for molecule in dir_list:\n",
    "    if molecule.endswith(\".mol2\"):\n",
    "        # Rutas completas para el archivo de entrada y salida\n",
    "        full_element_path = input_dir / molecule\n",
    "        converted_name = molecule.replace(\".mol2\", \".pdbqt\")\n",
    "        full_converted_name = output_dir / converted_name\n",
    "\n",
    "        # Ejecuta el comando de conversión usando Open Babel\n",
    "        command = subprocess.run(\n",
    "            [\"obabel\", str(full_element_path), \"-O\", str(full_converted_name)],\n",
    "            text=True,\n",
    "        )\n",
    "\n",
    "        # Verifica si la conversión fue exitosa\n",
    "        if command.returncode == 0:\n",
    "            print(f\"Convertido: {full_element_path} -> {full_converted_name}\")\n",
    "        else:\n",
    "            print(f\"Error al convertir {full_element_path}\")\n",
    "    else:\n",
    "        print(f\"Saltando archivo no compatible: {molecule}\")"
   ]
  }
 ],
 "metadata": {
  "kernelspec": {
   "display_name": "Python 3 (ipykernel)",
   "language": "python",
   "name": "python3"
  },
  "language_info": {
   "codemirror_mode": {
    "name": "ipython",
    "version": 3
   },
   "file_extension": ".py",
   "mimetype": "text/x-python",
   "name": "python",
   "nbconvert_exporter": "python",
   "pygments_lexer": "ipython3",
   "version": "3.13.1"
  }
 },
 "nbformat": 4,
 "nbformat_minor": 5
}
